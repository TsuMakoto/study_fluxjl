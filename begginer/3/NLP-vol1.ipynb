{
 "cells": [
  {
   "cell_type": "markdown",
   "metadata": {},
   "source": [
    "# 自然言語処理をやってみる vol.1"
   ]
  },
  {
   "cell_type": "markdown",
   "metadata": {},
   "source": [
    "ひさびさに書いてみます。\n",
    "\n",
    "今回は、自然言語処理について書いてみようかなと思います。"
   ]
  },
  {
   "cell_type": "markdown",
   "metadata": {},
   "source": [
    "## 動機について少々"
   ]
  },
  {
   "cell_type": "markdown",
   "metadata": {},
   "source": [
    "この記事を書く気になったのはqiitaでCOTOHA APIという自然言語のためのAPIを使用し、記事にするといい記事を書いた人にはプレゼントがあるという優れたものがあるからです！！"
   ]
  },
  {
   "cell_type": "markdown",
   "metadata": {},
   "source": [
    "まあ、プレゼントはもらえないにせよ、記事を書くことに意味があるので、やっていきまする。"
   ]
  },
  {
   "cell_type": "markdown",
   "metadata": {},
   "source": [
    "## COTOHA API for Developersに無料登録\n",
    "これをやっていきます。\n",
    "[COTOHA API for Developers](https://api.ce-cotoha.com/contents/developers/index.html)のリンクからやっていきましょう！"
   ]
  },
  {
   "cell_type": "markdown",
   "metadata": {},
   "source": [
    "結構めんどくさいですが、そこでのAPI Key等はメモっておいてください。"
   ]
  },
  {
   "cell_type": "markdown",
   "metadata": {},
   "source": [
    "## 早速アクセスしましょう！"
   ]
  },
  {
   "cell_type": "markdown",
   "metadata": {},
   "source": [
    "access_tokenはアクセスするたびに更新され、24時間の有効期限があるので、お試しする際はお気をつけて。"
   ]
  },
  {
   "cell_type": "code",
   "execution_count": 1,
   "metadata": {},
   "outputs": [],
   "source": [
    "using HTTP\n",
    "using JSON"
   ]
  },
  {
   "cell_type": "code",
   "execution_count": 2,
   "metadata": {},
   "outputs": [
    {
     "data": {
      "text/plain": [
       "HTTP.Messages.Response:\n",
       "\"\"\"\n",
       "HTTP/1.1 201 Created\r\n",
       "Date: Sun, 09 Feb 2020 03:46:44 GMT\r\n",
       "Content-Type: application/json\r\n",
       "Content-Length: 249\r\n",
       "Connection: keep-alive\r\n",
       "Access-Control-Allow-Origin: \r\n",
       "\r\n",
       "\n",
       "          {\n",
       "            \"access_token\": \"uETK8l84XlxxXlWw6fyoHGcGaGHe\", \n",
       "            \"token_type\": \"bearer\",\n",
       "            \"expires_in\": \"86399\" ,\n",
       "            \"scope\": \"\" ,    \n",
       "            \"issued_at\": \"1581220004395\"           \n",
       "           }\n",
       "        \"\"\""
      ]
     },
     "execution_count": 2,
     "metadata": {},
     "output_type": "execute_result"
    }
   ],
   "source": [
    "include(\"secret.jl\")\n",
    "data = Dict(\"grantType\"    => \"client_credentials\",\n",
    "            \"clientId\"     => clientid, \n",
    "            \"clientSecret\" => clientsecret)\n",
    "header = [\"Content-Type\"   => \"application/json\"]\n",
    "\n",
    "result = HTTP.request(\"POST\", access_token_publish_url, header, JSON.json(data))"
   ]
  },
  {
   "cell_type": "code",
   "execution_count": 3,
   "metadata": {},
   "outputs": [
    {
     "data": {
      "text/plain": [
       "\"uETK8l84XlxxXlWw6fyoHGcGaGHe\""
      ]
     },
     "execution_count": 3,
     "metadata": {},
     "output_type": "execute_result"
    }
   ],
   "source": [
    "access_token = JSON.parse(String(result.body))[\"access_token\"]"
   ]
  },
  {
   "cell_type": "code",
   "execution_count": 4,
   "metadata": {},
   "outputs": [],
   "source": [
    "using Printf"
   ]
  },
  {
   "cell_type": "code",
   "execution_count": 5,
   "metadata": {},
   "outputs": [
    {
     "data": {
      "text/plain": [
       "post (generic function with 1 method)"
      ]
     },
     "execution_count": 5,
     "metadata": {},
     "output_type": "execute_result"
    }
   ],
   "source": [
    "function post(access_token, data, api_base_url) \n",
    "    header = [\"Content-Type\"  => \"application/json;charset=UTF-8\",\n",
    "              \"Authorization\" => \"Bearer $(access_token)\"]\n",
    "    \n",
    "    HTTP.request(\"POST\", \"$(api_base_url)/nlp/v1/parse\", header, JSON.json(data))\n",
    "end"
   ]
  },
  {
   "cell_type": "code",
   "execution_count": 6,
   "metadata": {},
   "outputs": [
    {
     "data": {
      "text/plain": [
       "HTTP.Messages.Response:\n",
       "\"\"\"\n",
       "HTTP/1.1 200 OK\r\n",
       "Date: Sun, 09 Feb 2020 03:46:46 GMT\r\n",
       "Content-Type: application/json;charset=utf-8\r\n",
       "Content-Length: 3460\r\n",
       "Connection: keep-alive\r\n",
       "Cache-Control: no-cache\r\n",
       "Pragma: no-cache\r\n",
       "X-Frame-Options: DENY\r\n",
       "X-Content-Type-Options: nosniff\r\n",
       "X-XSS-Protection: 1; mode=block\r\n",
       "Via: 1.1 google\r\n",
       "Access-Control-Allow-Origin: \r\n",
       "\r\n",
       "{\n",
       "  \"result\" : [ {\n",
       "    \"chunk_info\" : {\n",
       "      \"id\" : 0,\n",
       "      \"head\" : 4,\n",
       "      \"dep\" : \"D\",\n",
       "      \"chunk_head\" : 0,\n",
       "      \"chunk_func\" : 0,\n",
       "      \"links\" : [ ]\n",
       "    },\n",
       "    \"tokens\" : [ {\n",
       "      \"id\" : 0,\n",
       "      \"form\" : \"昨日\",\n",
       "      \"kana\" : \"サクジツ\",\n",
       "      \"lemma\" : \"昨日\",\n",
       "      \"pos\" : \"名詞\",\n",
       "      \"features\" : [ \"日時\" ],\n",
       "      \"dependency_labels\" : [ ],\n",
       "      \"attributes\" : { }\n",
       "    } ]\n",
       "  }, {\n",
       "    \"chunk_info\" : {\n",
       "      \"id\" : 1,\n",
       "      \"head\" : 4,\n",
       "      \"dep\" : \"D\",\n",
       "      \"chunk_head\" : 0,\n",
       "      \"chunk_func\" : 1,\n",
       "      \"links\" : [ ]\n",
       "    },\n",
       "    \"tokens\" : [ {\n",
       "      \"id\" : 1,\n",
       "      \"form\" : \"母\",\n",
       "      \"kana\" : \"ハハ\",\n",
       "      \"lemma\" : \"母\",\n",
       "      \"pos\" : \"名詞\",\n",
       "      \"features\" : [ ],\n",
       "      \"dependency_labels\" : [ {\n",
       "        \"token_id\" : 2,\n",
       "        \"label\" : \"cc\"\n",
       "      } ],\n",
       "      \"attributes\" : { }\n",
       "    }, {\n",
       "      \"id\" : 2,\n",
       "      \"form\" : \"と\",\n",
       "      \"kana\" : \"ト\",\n",
       "      \"lemma\" : \"と\",\n",
       "      \"pos\" : \"格助詞\",\n",
       "      \"features\" : [ \"連用\" ],\n",
       "      \"attribute\n",
       "⋮\n",
       "3460-byte body\n",
       "\"\"\""
      ]
     },
     "execution_count": 6,
     "metadata": {},
     "output_type": "execute_result"
    }
   ],
   "source": [
    "result_json = post(access_token, Dict(\"sentence\" => \"昨日母と銀座で焼き肉を食べた\"), api_base_url)"
   ]
  },
  {
   "cell_type": "markdown",
   "metadata": {},
   "source": [
    "---\n",
    "上のような結果が返ってきます。\n",
    "\n",
    "ちなみに、この例は[スタートガイド](https://api.ce-cotoha.com/contents/gettingStarted.html)で載ってる例です。\n",
    "\n",
    "これをJuliaで扱えるようにparseして中身を覗いてみます。"
   ]
  },
  {
   "cell_type": "code",
   "execution_count": 7,
   "metadata": {},
   "outputs": [],
   "source": [
    "result = JSON.parse(String(result_json.body))[\"result\"];"
   ]
  },
  {
   "cell_type": "code",
   "execution_count": 8,
   "metadata": {},
   "outputs": [
    {
     "name": "stdout",
     "output_type": "stream",
     "text": [
      "Dict{String,Any}(\"tokens\" => Any[Dict{String,Any}(\"features\" => Any[\"日時\"],\"attributes\" => Dict{String,Any}(),\"kana\" => \"サクジツ\",\"id\" => 0,\"lemma\" => \"昨日\",\"pos\" => \"名詞\",\"form\" => \"昨日\",\"dependency_labels\" => Any[])],\"chunk_info\" => Dict{String,Any}(\"head\" => 4,\"links\" => Any[],\"chunk_head\" => 0,\"chunk_func\" => 0,\"id\" => 0,\"dep\" => \"D\"))"
     ]
    }
   ],
   "source": [
    "print(result[1])"
   ]
  },
  {
   "cell_type": "markdown",
   "metadata": {},
   "source": [
    "まあ、こんな感じで、文章解析ができるようになります。\n",
    "\n",
    "Mecabよりも結構多い情報がえられてますが、今のところあまり違いは感じられないかな？\n",
    "\n",
    "むしろ、情報が多すぎて選択しにくいのが煩わしいというか、Optionありそうですけどね。"
   ]
  },
  {
   "cell_type": "markdown",
   "metadata": {},
   "source": [
    "今回はこんな感じで。\n",
    "\n",
    "いずれはセンター国語、評論くらい解けるようにしたいですね。"
   ]
  }
 ],
 "metadata": {
  "kernelspec": {
   "display_name": "Julia 1.2.0",
   "language": "julia",
   "name": "julia-1.2"
  },
  "language_info": {
   "file_extension": ".jl",
   "mimetype": "application/julia",
   "name": "julia",
   "version": "1.2.0"
  }
 },
 "nbformat": 4,
 "nbformat_minor": 4
}
