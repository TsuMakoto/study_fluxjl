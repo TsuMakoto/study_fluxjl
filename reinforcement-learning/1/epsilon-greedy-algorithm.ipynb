{
 "cells": [
  {
   "cell_type": "markdown",
   "metadata": {},
   "source": [
    "# ϵ-greedy法をReinforcementLearning.jlから学んでいく"
   ]
  },
  {
   "cell_type": "markdown",
   "metadata": {},
   "source": [
    "強化学習を始めようとしたきっかけは弊社の輪読会からなんですよね。\n",
    "\n",
    "まあ、ぶっちゃけ機械学習自体そこまで習熟してない上に、なんやかんやいろんなものかじってしまって手が付けられない状態に陥ってしまってるのでなんとかしたい。"
   ]
  },
  {
   "cell_type": "markdown",
   "metadata": {},
   "source": [
    "## ϵ-greedy法の目的\n",
    "まず、ϵ-greedy法を使える場面としては、以下の２点です。\n",
    "- 遷移関数が未知\n",
    "- 報酬関数が未知\n",
    "\n",
    "このとき、まずは適当に動いてみるわけで、そのときに得られる報酬について調査していきます。\n",
    "調査が目的のため、報酬を最大にすることはout of 眼中であることに注意しましょう。\n",
    "\n",
    "また、報酬も良いものにしていきたいですが、行動回数に限りがある場合がほとんどなので、報酬獲得には気を配らないと全く調査が進まず終わることがあります。\n",
    "\n",
    "このトレードオフをいい感じにするのがこのϵ-greedy法の目的です。"
   ]
  },
  {
   "cell_type": "markdown",
   "metadata": {},
   "source": [
    "## アルゴリズム\n",
    "このアルゴリズムは至ってシンプルです。\n",
    "\n",
    "調査を目的とする割合をϵとすると、報酬獲得を目的とする割合を1-ϵで実行していくやり方です。\n",
    "\n",
    "早速疑似コードを書いていきます。"
   ]
  },
  {
   "cell_type": "markdown",
   "metadata": {},
   "source": [
    "---\n",
    "\n",
    "$\n",
    "  \\mathrm{ALG}: \\epsilon -greedy \\\\\n",
    "  \\mathrm{INPUT}: \\\\\n",
    "    \\begin{align}\n",
    "      \\ \\cdot episode\\_count \\mathrm{\\ is \\ maximum \\ step \\ count}\n",
    "    \\end{align}\n",
    "$\n",
    "\n",
    "---"
   ]
  },
  {
   "cell_type": "code",
   "execution_count": null,
   "metadata": {},
   "outputs": [],
   "source": []
  }
 ],
 "metadata": {
  "kernelspec": {
   "display_name": "Julia 1.2.0",
   "language": "julia",
   "name": "julia-1.2"
  },
  "language_info": {
   "file_extension": ".jl",
   "mimetype": "application/julia",
   "name": "julia",
   "version": "1.2.0"
  }
 },
 "nbformat": 4,
 "nbformat_minor": 4
}
